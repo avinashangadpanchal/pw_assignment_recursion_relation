{
  "nbformat": 4,
  "nbformat_minor": 0,
  "metadata": {
    "colab": {
      "provenance": []
    },
    "kernelspec": {
      "name": "python3",
      "display_name": "Python 3"
    },
    "language_info": {
      "name": "python"
    }
  },
  "cells": [
    {
      "cell_type": "code",
      "execution_count": 2,
      "metadata": {
        "colab": {
          "base_uri": "https://localhost:8080/"
        },
        "id": "6LfK5sUqs-A_",
        "outputId": "371f21a1-f7ab-4a2e-ccb2-1b2cb294db96"
      },
      "outputs": [
        {
          "output_type": "stream",
          "name": "stdout",
          "text": [
            "T(2) = 105\n"
          ]
        }
      ],
      "source": [
        "# Question 1:Find the value of T(2) for the recurrence relation T(n) = 3T(n-1) + 12n, given that T(0)=5.\n",
        "\n",
        "def recurrence_relation(n):\n",
        "  if n == 0:\n",
        "    return 5\n",
        "  else:\n",
        "    return 3 * recurrence_relation(n - 1) + 12 * n\n",
        "\n",
        "# Find T(2)\n",
        "result = recurrence_relation(2)\n",
        "print(\"T(2) =\", result)\n"
      ]
    },
    {
      "cell_type": "code",
      "source": [
        "# Question 2: Given a recurrence relation, solve it using the substitution method:\n",
        "# a. T(n) = T(n-1) + c\n",
        "# b. T(n) = 2T(n/2) + n\n",
        "# c. T(n) = 2T(n/2) + c\n",
        "# d. T(n) = T(n/2) + c\n",
        "\n",
        "# a. T(n) = T(n-1) + c\n",
        "# Substitution method:\n",
        "# T(n) = T(n-1) + c\n",
        "#      = (T(n-2) + c) + c\n",
        "#      = T(n-2) + 2c\n",
        "#      = (T(n-3) + c) + 2c\n",
        "#      = T(n-3) + 3c\n",
        "#      ...\n",
        "#      = T(n-k) + kc\n",
        "#      ...\n",
        "#      = T(0) + nc  (assuming base case T(0) = some constant)\n",
        "# Therefore, T(n) = T(0) + nc\n",
        "\n",
        "# b. T(n) = 2T(n/2) + n\n",
        "# Substitution method:\n",
        "# T(n) = 2T(n/2) + n\n",
        "#      = 2(2T(n/4) + n/2) + n\n",
        "#      = 4T(n/4) + n + n\n",
        "#      = 4(2T(n/8) + n/4) + 2n\n",
        "#      = 8T(n/8) + n + 2n\n",
        "#      ...\n",
        "#      = 2^kT(n/2^k) + k * n\n",
        "#      ...\n",
        "#      = 2^(log2(n))T(1) + log2(n) * n  (when n/2^k = 1, then k = log2(n))\n",
        "#      = n * T(1) + n * log2(n)\n",
        "# Therefore, T(n) = n * T(1) + n * log2(n)\n",
        "\n",
        "# c. T(n) = 2T(n/2) + c\n",
        "# Substitution method:\n",
        "# T(n) = 2T(n/2) + c\n",
        "#      = 2(2T(n/4) + c) + c\n",
        "#      = 4T(n/4) + 2c + c\n",
        "#      = 4(2T(n/8) + c) + 3c\n",
        "#      = 8T(n/8) + 4c + 3c\n",
        "#      ...\n",
        "#      = 2^kT(n/2^k) + (2^k - 1) * c\n",
        "#      ...\n",
        "#      = 2^(log2(n))T(1) + (2^(log2(n)) - 1) * c\n",
        "#      = n * T(1) + (n - 1) * c\n",
        "# Therefore, T(n) = n * T(1) + (n - 1) * c\n",
        "\n",
        "# d. T(n) = T(n/2) + c\n",
        "# Substitution method:\n",
        "# T(n) = T(n/2) + c\n",
        "#      = (T(n/4) + c) + c\n",
        "#      = T(n/4) + 2c\n",
        "#      = (T(n/8) + c) + 2c\n",
        "#      = T(n/8) + 3c\n",
        "#      ...\n",
        "#      = T(n/2^k) + k * c\n",
        "#      ...\n",
        "#      = T(1) + log2(n) * c  (when n/2^k = 1, then k = log2(n))\n",
        "# Therefore, T(n) = T(1) + log2(n) * c\n"
      ],
      "metadata": {
        "id": "Iq8oN3tRtmJm"
      },
      "execution_count": null,
      "outputs": []
    },
    {
      "cell_type": "code",
      "source": [
        "# Question 3: Given a recurrence relation, solve it using the recursive tree approach:\n",
        "# a. T(n) = 2T(n-1) +1\n",
        "# b. T(n) = 2T(n/2) + n\n",
        "\n",
        "# a. T(n) = 2T(n-1) + 1\n",
        "\n",
        "# Recursive Tree Approach:\n",
        "# - Start with the root node T(n)\n",
        "# - Each node has two children: 2T(n-1)\n",
        "# - Continue expanding the tree until you reach the base case (T(0) or T(1), depending on the problem)\n",
        "# - Sum the values at each level of the tree\n",
        "# - Calculate the total sum to find the closed-form solution\n",
        "\n",
        "# Level 0: T(n)\n",
        "# Level 1: 2T(n-1)\n",
        "# Level 2: 2^2 * T(n-2)\n",
        "# ...\n",
        "# Level n: 2^n * T(0)\n",
        "\n",
        "# Sum of values at each level:\n",
        "# Level 0: 1\n",
        "# Level 1: 2\n",
        "# Level 2: 2^2\n",
        "# ...\n",
        "# Level n: 2^n\n",
        "\n",
        "# Total sum: 1 + 2 + 2^2 + ... + 2^n = 2^(n+1) - 1\n",
        "\n",
        "# Therefore, T(n) = 2^(n+1) - 1\n",
        "\n",
        "\n",
        "# b. T(n) = 2T(n/2) + n\n",
        "\n",
        "# Recursive Tree Approach:\n",
        "# - Start with the root node T(n)\n",
        "# - Each node has two children: 2T(n/2)\n",
        "# - Continue expanding the tree until you reach the base case (T(1))\n",
        "# - Sum the values at each level of the tree\n",
        "# - Calculate the total sum to find the closed-form solution\n",
        "\n",
        "# Level 0: T(n)\n",
        "# Level 1: 2T(n/2)\n",
        "# Level 2: 2^2 * T(n/2^2)\n",
        "# ...\n",
        "# Level log2(n): 2^(log2(n)) * T(1)\n",
        "\n",
        "# Sum of values at each level:\n",
        "# Level 0: n\n",
        "# Level 1: 2 * (n/2) = n\n",
        "# Level 2: 2^2 * (n/2^2) = n\n",
        "# ...\n",
        "# Level log2(n): 2^(log2(n)) * (n/2^(log2(n))) = n\n",
        "\n",
        "# Total sum: n + n + n + ... + n (log2(n) + 1 times) = n * (log2(n) + 1)\n",
        "\n",
        "# Therefore, T(n) = n * (log2(n) + 1)\n"
      ],
      "metadata": {
        "id": "m07L0-CTt3z5"
      },
      "execution_count": null,
      "outputs": []
    }
  ]
}